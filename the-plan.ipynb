{
 "cells": [
  {
   "cell_type": "markdown",
   "id": "da792c5b",
   "metadata": {},
   "source": [
    "# Vending Machine"
   ]
  }
 ],
 "metadata": {
  "language_info": {
   "name": "python"
  }
 },
 "nbformat": 4,
 "nbformat_minor": 5
}

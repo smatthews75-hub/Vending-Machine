{
 "cells": [
  {
   "cell_type": "markdown",
   "id": "da792c5b",
   "metadata": {},
   "source": [
    "# Vending Machine \n",
    "## An in depth explanation of the source code structure\n",
    "The source code in question is under the name `Mini_Project_Kel_3.py` in this repository. This notebook will explain the structure of the source code in depth, and the reasoning behind the choices made in the implementation of the code.\n",
    "\n",
    "---\n",
    "\n",
    "## Defining the specifications of the vending machine program\n",
    "The vending machine in this project is designed to be a simple simulation of a real-world vending machine with the following characteristics:\n",
    "1. The vending machine requires a system for managing its inventory of products, including the ability to add, remove, and update products.\n",
    "> Our intuition to implement this is through the use of python list or dictionaries to enable modular and flexible management of product data, but this project is under the restriction of using **only the material already taught in our lectures** which does not include neither lists or dictionaries. Therefore in order to implement this feature, we will leverage the use of `string` in python to store the product data in a structured format, and use string manipulation methods to read/write the data of the products in the inventory.\n",
    "2. The vending machine must be able to accept payments in multiple currencies, including IDR and SGD.\n",
    "> This program should handle transactions in both IDR and SGD, and convert between the two currencies as needed. Although real-time conversion between transactions are not supported due to exchange rates that may cause losses everytime a conversion is made - which realistically is not desired in a realistic business sense - **the conversion rate can be set in the source code** to simulate the ever changing exchange rate of currencies in the real world.\n",
    "3. The vending machine must be able to dispense change to customers in the same currency as the payment.\n",
    "> This program should be able to reliably calculate the correct amount of change to dispense to the customer, taking into account the currency used for the transaction. The change calculation should be done using a **greedy algorithm** to minimize the number of banknotes returned to the customer. With the added restriction of a **cash dispense limit of 100 unit for each banknote**, the program should also be able to handle situations where the machine does not have enough banknotes to give the exact change requested by the customer.\n",
    "4. The source code must be well-structured and easy to read, with clear comments and documentation.\n",
    "> Despite the lack of formal programming experience among the team members, we will do our best to structure the code in a logical and easy-to-follow manner, with clear comments and documentation to explain the processes behind the implementation of the code.\n"
   ]
  },
  {
   "cell_type": "markdown",
   "id": "1643bc5d",
   "metadata": {},
   "source": [
    "# STARTING WITH THE FOUNDATION OF THE PRODUCT INVENTORY SYSTEM\n"
   ]
  },
  {
   "cell_type": "code",
   "execution_count": null,
   "id": "418c4862",
   "metadata": {},
   "outputs": [],
   "source": [
    "PRODUCTS = '''\n",
    "-Chatito.10500|0:10******\n",
    "-El Minerale.3800|0:10***\n",
    "-ReeCheez.11300|0:10*****\n",
    "-SUPER FOOD.24700|0:10***\n",
    "-Cola Coca.5000|0:10*****\n",
    "-Deez Peas.12300|0:10****\n",
    "'''\n",
    "DEFAULT_PRODUCT_STOCK = 5 # THIS IS TO SET THE DEFAULT STOCK OF EVERY PRODUCT ITEM # TWEAK HERE !\n",
    "DEFAULT_MONEY_STOCK = 100 # THIS IS TO SET THE DEFAULT STOCK OF THE PHYSICAL MONEY # TWEAK HERE !\n",
    "# say $1 SGD dollar is Rp.12,800 IDR would be :\n",
    "SGD_to_IDR_ratio = 128.0 # 1 SGD cent is 128 IDR # CHANGE THE RATIO HERE !!!!!!!!!!!!!!!!!!!!!!!!"
   ]
  },
  {
   "cell_type": "markdown",
   "id": "ded80e6d",
   "metadata": {},
   "source": [
    "### At the top of the source code, these global variables can be set by `owners` of the vending machine to customize the product inventory and currency conversion rate of the vending machine.\n",
    "\n",
    "Instead of using multiple variables to store each data of the products, we implemented a system we call `big_strings`. Such as `PRODUCTS` is a string variable that is designed to behave as a \"list\" of products. So called `owners` of the vending machine can **easily add or remove products in this big string** with these data by following a strict format where each `line` are products where its data is separated by dashes `-`, dots `.`, vertical bars `|`, colons `:`, and asterisks `*` to separate different data fields. The format is as follows:\n",
    "```python\n",
    "PRODUCTS = '''\n",
    "-Name.IDR|SGD:stock******\n",
    "'''\n",
    "```\n",
    "Where:\n",
    "- `Name` is the name of the product, which can be any string without the special characters used as separators. Preceded by a dash `-` and followed by a dot `.`\n",
    "- `IDR` is the price of the product in Indonesian Rupiah, which is an integer without any special characters. Followed by a vertical bar `|`\n",
    "- `SGD` is the price of the product in Singapore Dollars but **as their cents** to avoid decimals. Followed by a colon `:`\n",
    "- `stock` is the stock of the product, which is an integer without any special characters. Followed by asterisks `*` as fillers to make the whole line **exactly 25 characters long.**\n",
    "- At the end of each 25 characters-long line, there is a newline character `\\n` to separate each product line. Note that this character is **not displayed** by IDEs or text editors, but it is there.\n",
    "\n",
    "# Why 25 characters long?\n",
    "In python, `strings` can be imagined as **chains of individual characters** that are **indexed starting from 0**. So although `PRODUCTS` have lines separated by `\\n` newline characters, it is actually a **one dimensional string** of characters. In order to traverse the one dimensional string, **loops would need to iterate through each character one by one** which would cost performance because this would be slow and inefficient for the designed lengths of these big strings. \n",
    "\n",
    "Thus, to maintain efficiency, requires a system to **'jump' to the start of each line directly** without having to loop through each character one by one. We call this `line jumping` and this is achieved by making each line **exactly 25 characters long**, so that the starting index of each line can be precisely calculated and thus creating **a reliable line jumping method.**\n",
    "\n",
    "These big string structures start with a newline character `\\n` at index 0, followed by the first line of product data `-` starting at index 1, and 25 characters later `*` ends at index 25, with a newline character `\\n` at index 26. The second line of product data `-` starts at index 27, and so on. So with newline characters being represented with these two symbols `\\n` but not displayed by IDEs and text editors, you can imagine the `PRODUCTS` big string as follows:\n",
    "```python\n",
    "'''\\n\n",
    "-Name.IDR|SGD:stock******\\n\n",
    "-Name.IDR|SGD:stock******\\n\n",
    "'''\n",
    "```\n",
    "### The 25 characters length, the separators of each data field, and the newline characters are all **crucial** for the program to function correctly. If any of these are not followed, the program may not be able to read the product data correctly, leading to errors or unexpected behavior.\n",
    "#### At least one product must be present in the `PRODUCTS` big string for the program to run correctly, with each data field filled with valid data that can just be **placeholders** and the correct order of separators maintained."
   ]
  },
  {
   "cell_type": "markdown",
   "id": "bd5b2493",
   "metadata": {},
   "source": [
    "# count_lines() function\n",
    "To facilitate the management of these big strings structures, we implemented a function called `count_lines()` that simply counts each `\\n` newline character."
   ]
  },
  {
   "cell_type": "code",
   "execution_count": null,
   "id": "fb5fdd37",
   "metadata": {},
   "outputs": [],
   "source": [
    "def count_lines(big_string): # THIS IS TO GIVE COUNT OF HOW MANY ITEMS IN THESE BIG STRINGS\n",
    "    j = 0\n",
    "    for i in big_string:\n",
    "        if i == '\\n':\n",
    "            j += 1\n",
    "    return j\n",
    "# product_count stores how many PRODUCTS we have\n",
    "product_count = count_lines(PRODUCTS)\n",
    "# product_count will be +1 extra but this can be taken advantage since range(end) is exclusive!\n",
    "# next this checks if the product big_string is valid or not... this is just in case we made an error\n",
    "if (len(PRODUCTS) - product_count) % 25 != 0 :\n",
    "    float(\"CAUTION !!! THE PRODUCT big_string IS INVALID !!!\")"
   ]
  },
  {
   "cell_type": "markdown",
   "id": "152b33e5",
   "metadata": {},
   "source": [
    "This may be seen as redundant since `product_count` will then have one extra count due to the newline character at the start of the big string, but this is intentional as further down the line accessing each line of the big string will be done by for loops with the `range(start, end)` function, where the `start` is inclusive and the `end` is exclusive. `product_count` will be used as the `end` parameter in the `range()` function, so that the loop will iterate through each line of the big string correctly.   \n",
    "\n",
    "Next lies a simple check to ensure the big string has the right 25 charaacter-long format, it is not a complete validation process but it is enough to catch most common errors such as missing newline characters or lines that are not 25 characters long. **The responsibility of ensuring the big string is in the correct format lies with the `owners` of the vending machine, as they are the ones who will be editing the big string to add or remove products.**"
   ]
  },
  {
   "cell_type": "markdown",
   "id": "9922ae9e",
   "metadata": {},
   "source": [
    "# The 'Bank' currency system\n",
    "The vending machine is designed to accept payments in both IDR and SGD, and to dispense change in the same currency as the payment. To facilitate this, we implemented `BANK_IDR` and `BANK_SGD` to represent the banknotes available in the vending machine for each currency. This system is also built upon the same `big string` structure as `PRODUCTS`, with each line representing a banknote denomination and its stock."
   ]
  },
  {
   "cell_type": "code",
   "execution_count": null,
   "id": "27f5695e",
   "metadata": {},
   "outputs": [],
   "source": [
    "# ------------------------------------------------ THIS IS THE BANK TO STORE THE MACHINE\"S CASH\n",
    "BANK_IDR = '''\n",
    "-Rp.100_000:000**********\n",
    "-Rp.50_000:000***********\n",
    "-Rp.20_000:000***********\n",
    "-Rp.10_000:000***********\n",
    "-Rp.5_000:000************\n",
    "-Rp.2_000:000************\n",
    "-Rp.1_000:100************\n",
    "-Rp.500:100**************\n",
    "-Rp.200:100**************\n",
    "-Rp.100:100**************\n",
    "'''\n",
    "# Notice SGD is stored in cents to avoid decimals because the machine's processes work best with integers\n",
    "BANK_SGD = '''\n",
    "-$.100_00:000************\n",
    "-$.50_00:000*************\n",
    "-$.10_00:000*************\n",
    "-$.5_00:000**************\n",
    "-$.2_00:000**************\n",
    "-$.1_00:000**************\n",
    "-$.50:000****************\n",
    "-$.20:100****************\n",
    "-$.10:100****************\n",
    "-$.5:100*****************\n",
    "-$.1:100*****************\n",
    "'''\n",
    "idr_count = count_lines(BANK_IDR) # stores how many IDR banknotes we gonna use\n",
    "sgd_count = count_lines(BANK_SGD) # stores how many SGD banknotes we gonna use"
   ]
  },
  {
   "cell_type": "markdown",
   "id": "19f9e63b",
   "metadata": {},
   "source": [
    "Here the 25 characters-long format is maintained as well but it does seem to waste a lot of space for just two data fields, but **this is done to maintain consistency across the big string structures in the program**, avoiding the need for special cases in the code to handle different formats for different big strings. \n",
    "1. Here the data field stored between `-` and `.` may act as just placeholders that dont actually get processed at all but may serve as identifiers for the banknotes for the `owners` of the vending machine to easily identify each banknote denomination.\n",
    "2. The data field stored between `.` and `:` are the **banknote denomination**, which is an integer without any special characters. IDR banknotes are in full units of Rupiah, while SGD banknotes are in **cents to avoid decimals.**\n",
    "3. The data field stored between `:` and `*` is the **stock** of the banknote, which is an integer without any special characters. Followed by asterisks `*` as fillers to make the whole line **exactly 25 characters long.**\n",
    "\n",
    "# The decision to avoid decimals\n",
    "Down the line, this program's implementation of the *greedy cashier algortihm* will involve the effective use of modulo `%` operators and floor integer division `//` operators to calculate the number of banknotes needed for a given amount of change. In python, **these operators behave differently and rather unpredictable when applied to floating point numbers (decimals) compared to integers**. Therefore, to avoid potential pitfalls and ensure the reliability of the change calculation process, we decided to represent SGD banknotes in cents (integers) instead of dollars (decimals). This decision simplifies the implementation of the greedy algorithm and minimizes the risk of errors in change calculation due to floating point arithmetic issues."
   ]
  },
  {
   "cell_type": "markdown",
   "id": "95563aa7",
   "metadata": {},
   "source": [
    "# FOUNDATIONAL FUNCTIONS THAT MANAGES THIS BIG STRING STRUCTURE"
   ]
  },
  {
   "cell_type": "markdown",
   "id": "bcdd706e",
   "metadata": {},
   "source": [
    "## get_line(line, big_string)\n",
    "where `line` is an integer that specifies which line in the big string to access, that starts from line 1. And `big_string` is the big string variable to access, such as `PRODUCTS`, `BANK_IDR`, or `BANK_SGD`.\n",
    "> This function returns the specified `line` from the `big_string`, which is the line of the product's data fields with its separators up until it reaches the first asterisk `*`"
   ]
  },
  {
   "cell_type": "code",
   "execution_count": null,
   "id": "989579a3",
   "metadata": {},
   "outputs": [],
   "source": [
    "# >>>>>>>>>>>>>>>>>>>>>>>>>>>>>>>>>>>>>>>>>>>>>>>>>>>>>>>>>>>>>>>>>>>> GET ANY LINE FROM A BIG STRING\n",
    "def get_line(line, big_string):\n",
    "    data_buffer = '' # to store each character\n",
    "    i = line + ((line-1)*25) # enables smart line jumping... tho sensitive...\n",
    "    while (True):\n",
    "        if big_string[i] == '*': # only return after it meets '*'\n",
    "            return data_buffer + '*'\n",
    "        data_buffer += big_string[i]\n",
    "        i += 1"
   ]
  },
  {
   "cell_type": "markdown",
   "id": "cc671752",
   "metadata": {},
   "source": [
    "`i` is the index to which the while loop will **start** adding data from the `big_string` to the `data_buffer`. `i` will be initialized with the formula `line + ((line-1)*25)` which will be demonstrated below :\n",
    "```python\n",
    "line = 1 -> i = 1 + ((1-1)*25) = 1 + (0*25) = 1   # here are indexes of the START of each line in the big_string\n",
    "line = 2 -> i = 2 + ((2-1)*25) = 2 + (1*25) = 27  # 1, 27, 53 are 25 characters apart, a linear function that tells the start index of each line\n",
    "line = 3 -> i = 3 + ((3-1)*25) = 3 + (2*25) = 53  # 1 belongs to line 1, 27 belongs to line 2, 53 belongs to line 3, and so on...\n",
    "```\n",
    "\n",
    "Each while loop iteration, `i` will increment by 1 to move to the next character in the `big_string` as it stores each character one by one into `data_buffer`. The loop continues until it encounters **the first asterisk `*`, which signifies the end of the relevant data** for that line. The function then returns the collected data in `data_buffer` being a `string` of the line of product data fields with its separators."
   ]
  },
  {
   "cell_type": "markdown",
   "id": "1325db0a",
   "metadata": {},
   "source": [
    "---\n",
    "\n",
    "# read_data(product_line, separator1, separator2)\n",
    "where `product_line` is a `string` from the line data fields of the big_string. **`product_line` is obtained with the help of the `get_line(line, big_string)` function**. `separator1` and `separator2` are the two separators that **surround the data field to be extracted**, such as `-` and `.` for the product name, or `.` and `:` for the product price in IDR, and so on.\n",
    "> This function extracts and returns a `string` which is the **data field from `product_line` that is located between `separator1` and `separator2`.**"
   ]
  },
  {
   "cell_type": "code",
   "execution_count": null,
   "id": "045bb96b",
   "metadata": {},
   "outputs": [],
   "source": [
    "# >>>>>>>>>>>>>>>>>>>>>>>>>>>>>>>>>>>>>>>>>>>>>>>>>>>>>>>>>>>>>>>>>>>> EXTRACT DATA BETWEEN 2 SEPARATORS\n",
    "def read_data(product_line, separator1, separator2):\n",
    "    extracted_data = ''\n",
    "    x = 0 # this is just to count string index\n",
    "    for i in product_line:\n",
    "        if i == separator1: # START EXTRACTION\n",
    "            x += 1 # skip the first separator1\n",
    "            while product_line[x] != separator2: # EXTRACT UNTIL product[x] is the second separator2\n",
    "                extracted_data += product_line[x]\n",
    "                x += 1\n",
    "            # After successful data extraction, RETURN\n",
    "            return extracted_data\n",
    "        x += 1 # keep looping until the first seperator1 is found"
   ]
  },
  {
   "cell_type": "markdown",
   "id": "eb86a714",
   "metadata": {},
   "source": [
    "`x` is initialized at 0 as an index to keep track of which string index of `product_line` the for loop is currently examining. The for loop iterates through the first few characters of `product_line` until `i` is the first occurrence of `separator1`. Once found, `x` is incremented by one to skip that first separator. Then it starts the while loop that begins extracting characters from `product_line` with that `x` index, adding each character to `extracted_data` until it encounters `separator2`. The function then returns the collected `extracted_data`. "
   ]
  },
  {
   "cell_type": "markdown",
   "id": "c04b5dcd",
   "metadata": {},
   "source": [
    "---\n",
    "# write_data(product_line, separator1, value, separator2)\n",
    "where `product_line` is a `string` from the line data fields of the big_string. **`product_line` is obtained with the help of the `get_line(line, big_string)` function**. `separator1` and `separator2` are the two separators that **surround the data field to be replaced or inserted**, and `value` is the new data to be inserted between the two separators.\n",
    "> This function returns a `string` which is the **updated `product_line` with the `value` inserted between `separator1` and `separator2`, replacing any existing data in that field.**"
   ]
  },
  {
   "cell_type": "code",
   "execution_count": null,
   "id": "1272b4e0",
   "metadata": {},
   "outputs": [],
   "source": [
    "# >>>>>>>>>>>>>>>>>>>>>>>>>>>>>>>>>>>>>>>>>>>>>>>>>>>>>>>>>>>>>>>>>>>> WRITE DATA BETWEEN 2 SEPARATORS\n",
    "def write_data(product_line, separator1, value, separator2):\n",
    "    updated_product = '' # a buffer for the updated product\n",
    "    value = str(value) # make sure value is a string\n",
    "\n",
    "    x = 0 # this is just to count string index\n",
    "    # This for loop is just for copying the chars before seperator1\n",
    "    # Until it finds separator 1 then proceed injecting\n",
    "    for i in product_line:\n",
    "        if i == separator1: # START WRITING\n",
    "            updated_product += i + value # add the separator1 i then add the whole value\n",
    "            # This skips the characters that are replaced by the value\n",
    "            while product_line[x] != separator2:\n",
    "                x += 1\n",
    "            # add the rest of the original data that is unchanged\n",
    "            while product_line[x] != '*':\n",
    "                updated_product += product_line[x]\n",
    "                x += 1\n",
    "            # After successful writing, BREAK out of the for loop, no longer needed\n",
    "            break\n",
    "        else:\n",
    "            updated_product += i\n",
    "        x += 1\n",
    "\n",
    "    # check if the updated product became more than the 25 char limit\n",
    "    length = len(updated_product)\n",
    "    if length > 25:\n",
    "        print(updated_product)\n",
    "        float(\"VALUE IS TOO LARGE, THE WHOLE PRODUCT LINE EXCEEDS 25\")\n",
    "    # after writing the updated_product can be less than 25 chars so gotta add fillers\n",
    "    updated_product = updated_product + ('*' * (25 - length)) if length < 25 else updated_product\n",
    "    return updated_product + '\\n' # FINALLY"
   ]
  },
  {
   "cell_type": "markdown",
   "id": "5ce0d386",
   "metadata": {},
   "source": [
    "`updated_product` is initialized as an empty string to serve as a buffer for the updated product line. `value` is converted to a string to ensure it can be concatenated with other string components. `x` is initialized at 0 to keep track of the current index in `product_line`.   \n",
    "\n",
    "Next, a for loop iterates through each character `i` in `product_line`. **When `i` matches `separator1`, it indicates the start of the section to be replaced**. The function appends `separator1` and the new `value` to `updated_product`. A while loop then increments `x` to skip over the existing data until it reaches `separator2`. After that, another while loop appends the remaining characters from `product_line` starting from `separator2` until it encounters an asterisk `*`, which signifies the end of the relevant data. Finally, the function breaks out of the for loop and **returns the fully constructed `updated_product` `string` that builds one line of a big_string**.\n",
    "\n",
    "## get_line(), read_data(), write_data() functions are the foundational functions that manage the big string structures in this program. These functions allow for modular and flexible management of product data, enabling easy addition, removal, and updating of products in the vending machine's inventory."
   ]
  }
 ],
 "metadata": {
  "language_info": {
   "name": "python"
  }
 },
 "nbformat": 4,
 "nbformat_minor": 5
}
